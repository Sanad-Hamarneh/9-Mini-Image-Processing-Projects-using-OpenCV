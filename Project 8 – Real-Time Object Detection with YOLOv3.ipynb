{
 "cells": [
  {
   "cell_type": "code",
   "execution_count": 1,
   "id": "4e19c173",
   "metadata": {},
   "outputs": [],
   "source": [
    "import cv2\n",
    "import numpy as np\n"
   ]
  },
  {
   "cell_type": "code",
   "execution_count": 2,
   "id": "c8e9e6c6",
   "metadata": {},
   "outputs": [
    {
     "name": "stdout",
     "output_type": "stream",
     "text": [
      "Requirement already satisfied: requests in c:\\users\\sanad\\anaconda3\\lib\\site-packages (2.31.0)\n",
      "Requirement already satisfied: charset-normalizer<4,>=2 in c:\\users\\sanad\\anaconda3\\lib\\site-packages (from requests) (2.0.4)\n",
      "Requirement already satisfied: idna<4,>=2.5 in c:\\users\\sanad\\anaconda3\\lib\\site-packages (from requests) (3.4)\n",
      "Requirement already satisfied: urllib3<3,>=1.21.1 in c:\\users\\sanad\\anaconda3\\lib\\site-packages (from requests) (2.0.7)\n",
      "Requirement already satisfied: certifi>=2017.4.17 in c:\\users\\sanad\\anaconda3\\lib\\site-packages (from requests) (2024.2.2)\n",
      "Note: you may need to restart the kernel to use updated packages.\n"
     ]
    }
   ],
   "source": [
    "pip install requests\n"
   ]
  },
  {
   "cell_type": "code",
   "execution_count": null,
   "id": "04a5d27f",
   "metadata": {},
   "outputs": [],
   "source": [
    "import requests\n",
    "\n",
    "def download_file(url, filename):\n",
    "    \"\"\"\n",
    "    Helper function to download a file from a URL.\n",
    "    \"\"\"\n",
    "    with requests.get(url, stream=True) as r:\n",
    "        r.raise_for_status()\n",
    "        with open(filename, 'wb') as f:\n",
    "            for chunk in r.iter_content(chunk_size=8192): \n",
    "                f.write(chunk)\n",
    "\n",
    "weights_url = 'https://pjreddie.com/media/files/yolov3.weights'\n",
    "weights_filename = 'yolov3.weights'\n",
    "\n",
    "download_file(weights_url, weights_filename)\n",
    "print(\"Download completed!\")\n"
   ]
  },
  {
   "cell_type": "code",
   "execution_count": 7,
   "id": "761fc846",
   "metadata": {},
   "outputs": [
    {
     "name": "stdout",
     "output_type": "stream",
     "text": [
      "Download of coco.names completed!\n"
     ]
    }
   ],
   "source": [
    "import requests\n",
    "\n",
    "def download_file(url, filename):\n",
    "    \"\"\"\n",
    "    Helper function to download a file from a URL.\n",
    "    \"\"\"\n",
    "    with requests.get(url, stream=True) as r:\n",
    "        r.raise_for_status()\n",
    "        with open(filename, 'wb') as f:\n",
    "            for chunk in r.iter_content(chunk_size=8192): \n",
    "                f.write(chunk)\n",
    "\n",
    "# URL for the coco.names file\n",
    "url = \"https://raw.githubusercontent.com/pjreddie/darknet/master/data/coco.names\"\n",
    "filename = \"coco.names\"\n",
    "\n",
    "download_file(url, filename)\n",
    "print(\"Download of coco.names completed!\")\n"
   ]
  },
  {
   "cell_type": "code",
   "execution_count": 2,
   "id": "e186ec04",
   "metadata": {},
   "outputs": [],
   "source": [
    "net = cv2.dnn.readNet(\"yolov3.weights\", \"yolov3.cfg\")"
   ]
  },
  {
   "cell_type": "code",
   "execution_count": 3,
   "id": "494e5a2f",
   "metadata": {},
   "outputs": [],
   "source": [
    "classes = []\n",
    "with open('coco.names', 'r') as f:\n",
    "    classes = [line.strip() for line in f.readlines()]\n",
    "\n",
    "# Set the input size for the YOLOv3 model\n",
    "input_width = 416\n",
    "input_height = 416\n",
    "\n",
    "\n",
    "net.setPreferableBackend(cv2.dnn.DNN_BACKEND_OPENCV)\n",
    "net.setPreferableTarget(cv2.dnn.DNN_TARGET_CPU)\n",
    "\n",
    "video_path = \"road_trafifc.mp4\"\n",
    "cap = cv2.VideoCapture(video_path)\n",
    "\n",
    "\n",
    "while True:\n",
    "    ret, frame = cap.read()\n",
    "    if not ret:\n",
    "        break\n",
    "\n",
    "   \n",
    "    if frame is None:\n",
    "        print(\"Error: Empty frame\")\n",
    "        continue\n",
    "\n",
    "   \n",
    "    blob = cv2.dnn.blobFromImage(frame, 1/255, (input_width, input_height), (0, 0, 0), True, crop=False)\n",
    "\n",
    "   \n",
    "    net.setInput(blob)\n",
    "\n",
    "   \n",
    "    detections = net.forward()\n",
    "\n",
    "  \n",
    "    for detection in detections:\n",
    "        scores = detection[5:]\n",
    "        class_id = np.argmax(scores)\n",
    "        confidence = scores[class_id]\n",
    "        if confidence > 0.4:\n",
    "           \n",
    "            box = detection[0:4] * nqp.array([frame.shape[1], frame.shape[0], frame.shape[1], frame.shape[0]])\n",
    "            (x, y, w, h) = box.astype(\"int\")\n",
    "\n",
    "           \n",
    "            indices = cv2.dnn.NMSBoxes([(x, y, w, h)], [confidence], 0.5, 0.4)\n",
    "\n",
    "            \n",
    "            if len(indices) > 0:\n",
    "                for i in indices.flatten():\n",
    "                    cv2.rectangle(frame, (x, y), (x + w, y + h), (0, 255, 0), 2)\n",
    "                    text = f\"{classes[class_id]}: {confidence:.2f}\"\n",
    "                    cv2.putText(frame, text, (x, y - 5), cv2.FONT_HERSHEY_SIMPLEX, 0.5, (0, 255, 0), 2)\n",
    "\n",
    "\n",
    "\n",
    "    cv2.imshow(\"frame\",frame)\n",
    "\n",
    "    \n",
    "    if cv2.waitKey(1) == ord('q'):\n",
    "        break\n",
    "\n",
    "\n",
    "cap.release()\n",
    "cv2.destroyAllWindows()"
   ]
  }
 ],
 "metadata": {
  "kernelspec": {
   "display_name": "Python 3 (ipykernel)",
   "language": "python",
   "name": "python3"
  },
  "language_info": {
   "codemirror_mode": {
    "name": "ipython",
    "version": 3
   },
   "file_extension": ".py",
   "mimetype": "text/x-python",
   "name": "python",
   "nbconvert_exporter": "python",
   "pygments_lexer": "ipython3",
   "version": "3.11.5"
  }
 },
 "nbformat": 4,
 "nbformat_minor": 5
}
